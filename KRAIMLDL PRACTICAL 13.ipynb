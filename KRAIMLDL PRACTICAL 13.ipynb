{
 "cells": [
  {
   "cell_type": "markdown",
   "metadata": {},
   "source": [
    "# Abhishek Mehta"
   ]
  },
  {
   "cell_type": "markdown",
   "metadata": {},
   "source": [
    " ### Recognize optical character using ANN."
   ]
  },
  {
   "cell_type": "code",
   "execution_count": 1,
   "metadata": {
    "_cell_guid": "b1076dfc-b9ad-4769-8c92-a6c4dae69d19",
    "_uuid": "8f2839f25d086af736a60e9eeb907d3b93b6e0e5",
    "execution": {
     "iopub.execute_input": "2023-11-25T05:35:51.552029Z",
     "iopub.status.busy": "2023-11-25T05:35:51.551472Z",
     "iopub.status.idle": "2023-11-25T05:35:59.132873Z",
     "shell.execute_reply": "2023-11-25T05:35:59.131603Z",
     "shell.execute_reply.started": "2023-11-25T05:35:51.551921Z"
    }
   },
   "outputs": [],
   "source": [
    "import numpy as np # linear algebra\n",
    "import pandas as pd # data processing, CSV file I/O (e.g. pd.read_csv)\n",
    "import matplotlib.pyplot as plt\n",
    "import matplotlib.image as mpimg\n",
    "import tensorflow as tf\n",
    "from tensorflow import keras\n",
    "import string"
   ]
  },
  {
   "cell_type": "code",
   "execution_count": 2,
   "metadata": {
    "_cell_guid": "79c7e3d0-c299-4dcb-8224-4455121ee9b0",
    "_uuid": "d629ff2d2480ee46fbb7e2d37f6b5fab8052498a",
    "execution": {
     "iopub.execute_input": "2023-11-25T05:35:59.135354Z",
     "iopub.status.busy": "2023-11-25T05:35:59.135031Z",
     "iopub.status.idle": "2023-11-25T05:36:10.075324Z",
     "shell.execute_reply": "2023-11-25T05:36:10.074364Z",
     "shell.execute_reply.started": "2023-11-25T05:35:59.135319Z"
    }
   },
   "outputs": [
    {
     "name": "stdout",
     "output_type": "stream",
     "text": [
      "No of Images : 1774\n",
      "Characters :  abcdefghijklmnopqrstuvwxyzABCDEFGHIJKLMNOPQRSTUVWXYZ0123456789.,*&!@~():`^]¢‘;|-«\n",
      "No of chars : 82\n"
     ]
    },
    {
     "data": {
      "image/png": "[encoded data removed]",
      "text/plain": [
       "<Figure size 432x288 with 1 Axes>"
      ]
     },
     "metadata": {
      "needs_background": "light"
     },
     "output_type": "display_data"
    }
   ],
   "source": [
    "#Only Selecting the Images and excluding the directories in the folder\n",
    "# images_names=fnmatch.filter(os.listdir('/kaggle/input/captcha-version-2-images/samples/'),'*.*')\n",
    "from PIL import Image\n",
    "\n",
    "text_file=open(r\"../input/UsedSentences.txt\",\"r\")\n",
    "\n",
    "details=[]\n",
    "outputs=[]\n",
    "names=[]\n",
    "for line in text_file:\n",
    "    a=line.split('#')\n",
    "    outputs.append(a[1].strip('\\n'))\n",
    "    details.append(a[0])\n",
    "\n",
    "for detail in details:\n",
    "    a=detail.split(' ')\n",
    "    names.append(a[0])\n",
    "X=[]\n",
    "\n",
    "for name in names:\n",
    "    img=Image.open('../input/CleanedImages/Encoder_Clean_Renamed/'+name+'.png','r')\n",
    "    img = img.resize((784,32), Image.ANTIALIAS)\n",
    "    img=np.asarray(img)\n",
    "    img=img[:,:,0]\n",
    "    X.append(img)\n",
    "\n",
    "X=np.asarray(X)\n",
    "plt.imshow(X[42])\n",
    "plt.title(outputs[42])\n",
    "print(\"No of Images :\",X.shape[0])\n",
    "\n",
    "symbols = \" \"+string.ascii_lowercase + string.ascii_uppercase+\"0123456789.,*&!@~():`^]¢‘;|-«\"\n",
    "print(\"Characters :\",symbols)\n",
    "print(\"No of chars :\",len(symbols))\n",
    "\n",
    "# print(os.listdir('../input/linesdata/data/sentences/s01/'))"
   ]
  },
  {
   "cell_type": "code",
   "execution_count": 3,
   "metadata": {
    "execution": {
     "iopub.execute_input": "2023-11-25T05:36:10.077406Z",
     "iopub.status.busy": "2023-11-25T05:36:10.077048Z",
     "iopub.status.idle": "2023-11-25T05:36:10.190054Z",
     "shell.execute_reply": "2023-11-25T05:36:10.188966Z",
     "shell.execute_reply.started": "2023-11-25T05:36:10.077371Z"
    }
   },
   "outputs": [],
   "source": [
    "Y=np.zeros(shape=(len(outputs),98,len(symbols)))\n",
    "for example_no,name in enumerate(outputs):\n",
    "    for letter_no,letter in enumerate(name):\n",
    "        try:\n",
    "            Y[example_no][letter_no][symbols.index(letter)]=1\n",
    "        except:\n",
    "            print(letter,end=\" \")"
   ]
  },
  {
   "cell_type": "markdown",
   "metadata": {},
   "source": [
    "Just Reshaping the Shape of X in order to pass it to the convolution."
   ]
  },
  {
   "cell_type": "code",
   "execution_count": 4,
   "metadata": {
    "execution": {
     "iopub.execute_input": "2023-11-25T05:36:10.191711Z",
     "iopub.status.busy": "2023-11-25T05:36:10.191404Z",
     "iopub.status.idle": "2023-11-25T05:36:10.197622Z",
     "shell.execute_reply": "2023-11-25T05:36:10.196769Z",
     "shell.execute_reply.started": "2023-11-25T05:36:10.191680Z"
    }
   },
   "outputs": [
    {
     "name": "stdout",
     "output_type": "stream",
     "text": [
      "Shape of X is : (1774, 32, 784, 1)\n"
     ]
    }
   ],
   "source": [
    "X=np.reshape(X,(X.shape[0],X.shape[1],X.shape[2],1))\n",
    "print(\"Shape of X is :\",X.shape)"
   ]
  },
  {
   "cell_type": "code",
   "execution_count": 5,
   "metadata": {
    "execution": {
     "iopub.execute_input": "2023-11-25T05:36:10.200901Z",
     "iopub.status.busy": "2023-11-25T05:36:10.200537Z",
     "iopub.status.idle": "2023-11-25T05:36:10.326153Z",
     "shell.execute_reply": "2023-11-25T05:36:10.324949Z",
     "shell.execute_reply.started": "2023-11-25T05:36:10.200857Z"
    }
   },
   "outputs": [],
   "source": [
    "# Neural Network Model \n",
    "# Try Removing Batch Normalisation and see how the performance decreases.\n",
    "def OCRModel():\n",
    "    image=keras.layers.Input((32,784,1))\n",
    "    conv1=keras.layers.Conv2D(16,(3,3),activation='relu',padding='same')(image)\n",
    "    mp1=keras.layers.MaxPooling2D((2,2),padding='same')(conv1)\n",
    "    conv2=keras.layers.Conv2D(32,(3,3),activation='relu',padding='same')(mp1)\n",
    "    mp2=keras.layers.MaxPooling2D((2,2),padding='same')(conv2)\n",
    "    conv3=keras.layers.Conv2D(64,(3,3),activation='relu',padding='same')(mp2)\n",
    "    mp3=keras.layers.MaxPooling2D((2,2),padding='same')(conv3)\n",
    "    conv4=keras.layers.Conv2D(128,(3,3),activation='relu',padding='same')(mp3)\n",
    "    mp4=keras.layers.MaxPooling2D((2,1),padding='same')(conv4)\n",
    "    conv5=keras.layers.Conv2D(256,(3,3),activation='relu',padding='same')(mp4)\n",
    "    mp5=keras.layers.MaxPooling2D((2,1),padding='same')(conv5)\n",
    "    conv6=keras.layers.Conv2D(256,(3,3),activation='relu',padding='same')(mp5)\n",
    "    # mp6=keras.layers.MaxPooling2D((1,3),padding='same')(conv6)\n",
    "    bn=keras.layers.BatchNormalization()(conv6)\n",
    "    sq=keras.backend.squeeze(bn,axis=1)\n",
    "\n",
    "    rn1=keras.layers.Bidirectional(keras.layers.LSTM(256,return_sequences=True))(sq)\n",
    "    rn2=keras.layers.Bidirectional(keras.layers.LSTM(256,return_sequences=True))(rn1)\n",
    "\n",
    "    exd=keras.backend.expand_dims(rn2,axis=2)\n",
    "    maping=keras.layers.Conv2D(len(symbols),(2,2),activation='relu',padding='same')(exd)\n",
    "    maping=keras.backend.squeeze(maping,axis=2)\n",
    "    maping = tf.keras.layers.Softmax()(maping)\n",
    "\n",
    "    # bn = keras.layers.BatchNormalization()(conv3)\n",
    "    model=keras.Model(image,maping)\n",
    "    model.compile(loss='categorical_crossentropy', optimizer='adam')\n",
    "    \n",
    "    return model"
   ]
  },
  {
   "cell_type": "code",
   "execution_count": 6,
   "metadata": {
    "execution": {
     "iopub.execute_input": "2023-11-25T05:36:10.328246Z",
     "iopub.status.busy": "2023-11-25T05:36:10.327880Z",
     "iopub.status.idle": "2023-11-25T06:59:57.488385Z",
     "shell.execute_reply": "2023-11-25T06:59:57.487517Z",
     "shell.execute_reply.started": "2023-11-25T05:36:10.328206Z"
    }
   },
   "outputs": [
    {
     "name": "stderr",
     "output_type": "stream",
     "text": [
      "Using TensorFlow backend.\n"
     ]
    },
    {
     "name": "stdout",
     "output_type": "stream",
     "text": [
      "Train on 1774 samples\n",
      "Epoch 1/50\n",
      "1774/1774 [==============================] - 105s 59ms/sample - loss: 1.6247\n",
      "Epoch 2/50\n",
      "1774/1774 [==============================] - 102s 58ms/sample - loss: 1.5304\n",
      "Epoch 3/50\n",
      "1774/1774 [==============================] - 99s 56ms/sample - loss: 1.5190\n",
      "Epoch 4/50\n",
      "1774/1774 [==============================] - 99s 56ms/sample - loss: 1.5049\n",
      "Epoch 5/50\n",
      "1774/1774 [==============================] - 100s 56ms/sample - loss: 1.4847\n",
      "Epoch 6/50\n",
      "1774/1774 [==============================] - 99s 56ms/sample - loss: 1.4590\n",
      "Epoch 7/50\n",
      "1774/1774 [==============================] - 99s 56ms/sample - loss: 1.4355\n",
      "Epoch 8/50\n",
      "1774/1774 [==============================] - 100s 56ms/sample - loss: 1.3884\n",
      "Epoch 9/50\n",
      "1774/1774 [==============================] - 101s 57ms/sample - loss: 1.2871\n",
      "Epoch 10/50\n",
      "1774/1774 [==============================] - 101s 57ms/sample - loss: 1.1649\n",
      "Epoch 11/50\n",
      "1774/1774 [==============================] - 100s 57ms/sample - loss: 1.0088\n",
      "Epoch 12/50\n",
      "1774/1774 [==============================] - 102s 58ms/sample - loss: 0.8752\n",
      "Epoch 13/50\n",
      "1774/1774 [==============================] - 105s 59ms/sample - loss: 0.7062\n",
      "Epoch 14/50\n",
      "1774/1774 [==============================] - 104s 59ms/sample - loss: 0.5521\n",
      "Epoch 15/50\n",
      "1774/1774 [==============================] - 102s 58ms/sample - loss: 0.4668\n",
      "Epoch 16/50\n",
      "1774/1774 [==============================] - 100s 57ms/sample - loss: 0.3628\n",
      "Epoch 17/50\n",
      "1774/1774 [==============================] - 101s 57ms/sample - loss: 0.2688\n",
      "Epoch 18/50\n",
      "1774/1774 [==============================] - 101s 57ms/sample - loss: 0.2441\n",
      "Epoch 19/50\n",
      "1774/1774 [==============================] - 99s 56ms/sample - loss: 0.1853\n",
      "Epoch 20/50\n",
      "1774/1774 [==============================] - 100s 56ms/sample - loss: 0.1278\n",
      "Epoch 21/50\n",
      "1774/1774 [==============================] - 99s 56ms/sample - loss: 0.0951\n",
      "Epoch 22/50\n",
      "1774/1774 [==============================] - 99s 56ms/sample - loss: 0.0907\n",
      "Epoch 23/50\n",
      "1774/1774 [==============================] - 100s 56ms/sample - loss: 0.1449\n",
      "Epoch 24/50\n",
      "1774/1774 [==============================] - 100s 57ms/sample - loss: 0.0722\n",
      "Epoch 25/50\n",
      "1774/1774 [==============================] - 99s 56ms/sample - loss: 0.0443\n",
      "Epoch 26/50\n",
      "1774/1774 [==============================] - 100s 56ms/sample - loss: 0.0332\n",
      "Epoch 27/50\n",
      "1774/1774 [==============================] - 100s 56ms/sample - loss: 0.0296\n",
      "Epoch 28/50\n",
      "1774/1774 [==============================] - 100s 56ms/sample - loss: 0.0267\n",
      "Epoch 29/50\n",
      "1774/1774 [==============================] - 100s 57ms/sample - loss: 0.0222\n",
      "Epoch 30/50\n",
      "1774/1774 [==============================] - 99s 56ms/sample - loss: 0.0262\n",
      "Epoch 31/50\n",
      "1774/1774 [==============================] - 99s 56ms/sample - loss: 0.0224\n",
      "Epoch 32/50\n",
      "1774/1774 [==============================] - 100s 56ms/sample - loss: 0.0230\n",
      "Epoch 33/50\n",
      "1774/1774 [==============================] - 103s 58ms/sample - loss: 0.0259\n",
      "Epoch 34/50\n",
      "1774/1774 [==============================] - 101s 57ms/sample - loss: 0.0180\n",
      "Epoch 35/50\n",
      "1774/1774 [==============================] - 100s 56ms/sample - loss: 0.0201\n",
      "Epoch 36/50\n",
      "1774/1774 [==============================] - 100s 56ms/sample - loss: 0.0147\n",
      "Epoch 37/50\n",
      "1774/1774 [==============================] - 100s 56ms/sample - loss: 0.0132\n",
      "Epoch 38/50\n",
      "1774/1774 [==============================] - 100s 57ms/sample - loss: 0.0126\n",
      "Epoch 39/50\n",
      "1774/1774 [==============================] - 100s 57ms/sample - loss: 0.0124\n",
      "Epoch 40/50\n",
      "1774/1774 [==============================] - 99s 56ms/sample - loss: 0.0132\n",
      "Epoch 41/50\n",
      "1774/1774 [==============================] - 100s 56ms/sample - loss: 0.0119\n",
      "Epoch 42/50\n",
      "1774/1774 [==============================] - 101s 57ms/sample - loss: 0.0114\n",
      "Epoch 43/50\n",
      "1774/1774 [==============================] - 100s 56ms/sample - loss: 0.0108\n",
      "Epoch 44/50\n",
      "1774/1774 [==============================] - 100s 56ms/sample - loss: 0.0107\n",
      "Epoch 45/50\n",
      "1774/1774 [==============================] - 101s 57ms/sample - loss: 0.0104\n",
      "Epoch 46/50\n",
      "1774/1774 [==============================] - 100s 57ms/sample - loss: 0.0103\n",
      "Epoch 47/50\n",
      "1774/1774 [==============================] - 100s 57ms/sample - loss: 0.0101\n",
      "Epoch 48/50\n",
      "1774/1774 [==============================] - 100s 56ms/sample - loss: 0.0104\n",
      "Epoch 49/50\n",
      "1774/1774 [==============================] - 102s 57ms/sample - loss: 0.0101\n",
      "Epoch 50/50\n",
      "1774/1774 [==============================] - 102s 57ms/sample - loss: 0.0098\n"
     ]
    },
    {
     "data": {
      "text/plain": [
       "<tensorflow.python.keras.callbacks.History at 0x7d3264563160>"
      ]
     },
     "execution_count": 6,
     "metadata": {},
     "output_type": "execute_result"
    }
   ],
   "source": [
    "from keras.utils.vis_utils import plot_model\n",
    "OCR=OCRModel()\n",
    "OCR.fit(X,Y,epochs=50)\n",
    "# plot_model(OCR, to_file='gan_plot.png', show_shapes=True, show_layer_names=True)"
   ]
  },
  {
   "cell_type": "markdown",
   "metadata": {},
   "source": [
    "Decoding the Output of the Model and Comparing it....."
   ]
  },
  {
   "cell_type": "code",
   "execution_count": 7,
   "metadata": {
    "execution": {
     "iopub.execute_input": "2023-11-25T06:59:57.490419Z",
     "iopub.status.busy": "2023-11-25T06:59:57.490119Z",
     "iopub.status.idle": "2023-11-25T07:00:26.000409Z",
     "shell.execute_reply": "2023-11-25T07:00:25.999269Z",
     "shell.execute_reply.started": "2023-11-25T06:59:57.490386Z"
    }
   },
   "outputs": [
    {
     "name": "stdout",
     "output_type": "stream",
     "text": [
      "98\n",
      "predicted: filter that replace  hhe piee  aalues with the ieigbb\n",
      "\n",
      "Orignal:  filter that replaces the pixel values with the neighb\n"
     ]
    },
    {
     "data": {
      "text/plain": [
       "<matplotlib.image.AxesImage at 0x7d321dfe39b0>"
      ]
     },
     "execution_count": 7,
     "metadata": {},
     "output_type": "execute_result"
    },
    {
     "data": {
      "image/png": "[encoded data removed]",
      "text/plain": [
       "<Figure size 432x288 with 1 Axes>"
      ]
     },
     "metadata": {
      "needs_background": "light"
     },
     "output_type": "display_data"
    }
   ],
   "source": [
    "xx=OCR.predict(X)\n",
    "index=466\n",
    "c=\"\"\n",
    "print(len(xx[0]))\n",
    "for i in range(len(xx[0])):\n",
    "    c=c+(symbols[np.argmax(xx[index][i])])\n",
    "print(\"predicted:\",c.strip())\n",
    "print(\"\\nOrignal:\",outputs[index])\n",
    "plt.imshow(X[index][:,:,0])"
   ]
  }
 ],
 "metadata": {
  "kaggle": {
   "accelerator": "gpu",
   "dataSources": [
    {
     "datasetId": 598279,
     "sourceId": 1075546,
     "sourceType": "datasetVersion"
    }
   ],
   "dockerImageVersionId": 29867,
   "isGpuEnabled": true,
   "isInternetEnabled": false,
   "language": "python",
   "sourceType": "notebook"
  },
  "kernelspec": {
   "display_name": "Python 3 (ipykernel)",
   "language": "python",
   "name": "python3"
  },
  "language_info": {
   "codemirror_mode": {
    "name": "ipython",
    "version": 3
   },
   "file_extension": ".py",
   "mimetype": "text/x-python",
   "name": "python",
   "nbconvert_exporter": "python",
   "pygments_lexer": "ipython3",
   "version": "3.11.5"
  }
 },
 "nbformat": 4,
 "nbformat_minor": 4
}
